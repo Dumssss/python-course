{
  "nbformat": 4,
  "nbformat_minor": 0,
  "metadata": {
    "colab": {
      "provenance": [],
      "authorship_tag": "ABX9TyO5yrPdTWKuWb/cIaWmAa2i",
      "include_colab_link": true
    },
    "kernelspec": {
      "name": "python3",
      "display_name": "Python 3"
    },
    "language_info": {
      "name": "python"
    }
  },
  "cells": [
    {
      "cell_type": "markdown",
      "metadata": {
        "id": "view-in-github",
        "colab_type": "text"
      },
      "source": [
        "<a href=\"https://colab.research.google.com/github/Dumssss/python-course/blob/main/Untitled3.ipynb\" target=\"_parent\"><img src=\"https://colab.research.google.com/assets/colab-badge.svg\" alt=\"Open In Colab\"/></a>"
      ]
    },
    {
      "cell_type": "markdown",
      "source": [
        "# Premiere execution de code"
      ],
      "metadata": {
        "id": "IC3fyZ8lJ4jj"
      }
    },
    {
      "cell_type": "code",
      "execution_count": null,
      "metadata": {
        "id": "Ic8Q55R-IgLk"
      },
      "outputs": [],
      "source": [
        "for i in [0, 1, 2]:\n",
        "  print(\"valeur :\", i)\n",
        "print(\"Fin\")"
      ]
    },
    {
      "cell_type": "markdown",
      "source": [
        "Ecrire une fonction qui affiche tous les nombres pairs de 0 à 20"
      ],
      "metadata": {
        "id": "viLwnaguMO-W"
      }
    },
    {
      "cell_type": "code",
      "source": [
        "list(range(10, 20, 2))"
      ],
      "metadata": {
        "colab": {
          "base_uri": "https://localhost:8080/"
        },
        "id": "F2EQtMMZL1Ay",
        "outputId": "cffe0b18-a28d-4f01-8ebb-2ddaa87bc840"
      },
      "execution_count": 7,
      "outputs": [
        {
          "output_type": "execute_result",
          "data": {
            "text/plain": [
              "[10, 12, 14, 16, 18]"
            ]
          },
          "metadata": {},
          "execution_count": 7
        }
      ]
    },
    {
      "cell_type": "markdown",
      "source": [
        "Demander une entrée"
      ],
      "metadata": {
        "id": "fqVNhlsvMy_K"
      }
    },
    {
      "cell_type": "code",
      "source": [
        "x = int(input(\"Donnez un entier : \"))"
      ],
      "metadata": {
        "colab": {
          "base_uri": "https://localhost:8080/"
        },
        "id": "GqRHxdWwM0Sg",
        "outputId": "2d9ca1d0-ace4-4abe-f117-4c993e909d07"
      },
      "execution_count": 18,
      "outputs": [
        {
          "name": "stdout",
          "output_type": "stream",
          "text": [
            "Donnez un entier : 44\n"
          ]
        }
      ]
    },
    {
      "cell_type": "code",
      "source": [
        "print(\"x =\", x)"
      ],
      "metadata": {
        "colab": {
          "base_uri": "https://localhost:8080/"
        },
        "id": "37dWAT9BM7_s",
        "outputId": "9f58995e-059c-4ae4-c0fb-b776159afb86"
      },
      "execution_count": 17,
      "outputs": [
        {
          "output_type": "stream",
          "name": "stdout",
          "text": [
            "x = 44\n"
          ]
        }
      ]
    },
    {
      "cell_type": "markdown",
      "source": [
        "# Les bases"
      ],
      "metadata": {
        "id": "_R-tHi-5SbZn"
      }
    },
    {
      "cell_type": "code",
      "source": [
        "list_voyelles = ['a', 'e', 'i', 'o', 'u' ,'y']\n",
        "spells = ['Firivraductobadamusi', 'Sonocuriboumproboum', 'Craboumcuribadadiyo', 'Ridimotocorpucorpucia', 'Feratrumtarafia', 'Desflimotomoto']\n",
        "score = 0\n",
        "\n",
        "for spell in spells:\n",
        "  nb_voyelles = 0\n",
        "  nb_consonnes = 0\n",
        "  dangereux = False\n",
        "\n",
        "  s=spell.lower()\n",
        "  if s[0] in list_voyelles :\n",
        "    dangereux = True\n",
        "  for c in s :\n",
        "    if c in list_voyelles:\n",
        "      nb_voyelles += 1\n",
        "    else :\n",
        "      nb_consonnes += 1\n",
        "  if nb_voyelles < nb_consonnes :\n",
        "    score += 5\n",
        "  if nb_voyelles == nb_consonnes :\n",
        "    score += 10\n",
        "  if nb_voyelles > nb_consonnes :\n",
        "    score += 15\n",
        "  if dangereux:\n",
        "    score += 10\n",
        "\n",
        "print(score)"
      ],
      "metadata": {
        "colab": {
          "base_uri": "https://localhost:8080/"
        },
        "id": "wKABv3FPSi28",
        "outputId": "8e811f1c-7f92-47e4-d09f-94473d280172"
      },
      "execution_count": 29,
      "outputs": [
        {
          "output_type": "stream",
          "name": "stdout",
          "text": [
            "40\n"
          ]
        }
      ]
    },
    {
      "cell_type": "code",
      "source": [
        "code = \"67 104 97 113 117 101 32 103 233 110 233 114 97 116 105 111 110 32 97 32 115 111 110 32 112 104 105 108 111 115 111 112 104 101 44 32 233 99 114 105 118 97 105 110 32 111 117 32 97 114 116 105 115 116 101 32 113 117 105 32 115 97 105 115 105 116 32 101 116 10 105 110 99 97 114 110 101 32 108 39 105 109 97 103 105 110 97 105 114 101 32 100 117 32 109 111 109 101 110 116 46 32 73 108 32 97 114 114 105 118 101 32 113 117 101 32 99 101 115 32 112 104 105 108 111 115 111 112 104 101 115 32 115 111 105 101 110 116 10 114 101 99 111 110 110 117 115 32 100 101 32 108 101 117 114 32 118 105 118 97 110 116 44 32 109 97 105 115 32 108 101 32 112 108 117 115 32 115 111 117 118 101 110 116 32 105 108 32 102 97 117 116 32 97 116 116 101 110 100 114 101 32 113 117 101 32 108 97 10 112 97 116 105 110 101 32 100 117 32 116 101 109 112 115 32 102 97 115 115 101 32 115 111 110 32 101 102 102 101 116 46 32 81 117 101 32 99 101 116 116 101 32 114 101 99 111 110 110 97 105 115 115 97 110 99 101 32 115 111 105 116 10 105 109 109 233 100 105 97 116 101 32 111 117 32 100 105 102 102 233 114 233 101 44 32 117 110 101 32 233 112 111 113 117 101 32 101 115 116 32 109 97 114 113 117 233 101 32 112 97 114 32 99 101 115 32 104 111 109 109 101 115 32 113 117 105 10 101 120 112 114 105 109 101 110 116 32 108 101 117 114 115 32 105 100 233 97 117 120 44 32 100 97 110 115 32 108 101 115 32 109 117 114 109 117 114 101 115 32 100 39 117 110 32 112 111 232 109 101 32 111 117 32 100 97 110 115 32 108 101 10 103 114 111 110 100 101 109 101 110 116 32 100 39 117 110 32 109 111 117 118 101 109 101 110 116 32 112 111 108 105 116 105 113 117 101 46 32 78 111 116 114 101 32 103 233 110 233 114 97 116 105 111 110 32 97 32 117 110 10 112 104 105 108 111 115 111 112 104 101 46 32 67 101 32 110 39 101 115 116 32 110 105 32 117 110 32 97 114 116 105 115 116 101 32 110 105 32 117 110 32 233 99 114 105 118 97 105 110 46 32 67 39 101 115 116 32 117 110 10 105 110 102 111 114 109 97 116 105 99 105 101 110 46 10\""
      ],
      "metadata": {
        "id": "dj4W-q8ET8fr"
      },
      "execution_count": 30,
      "outputs": []
    },
    {
      "cell_type": "code",
      "source": [
        "code = \"67 104 97 113 117 101 32 103 233 110 233 114 97 116 105 111 110 32 97 32 115 111 110 32 112 104 105 108 111 115 111 112 104 101 44 32 233 99 114 105 118 97 105 110 32 111 117 32 97 114 116 105 115 116 101 32 113 117 105 32 115 97 105 115 105 116 32 101 116 10 105 110 99 97 114 110 101 32 108 39 105 109 97 103 105 110 97 105 114 101 32 100 117 32 109 111 109 101 110 116 46 32 73 108 32 97 114 114 105 118 101 32 113 117 101 32 99 101 115 32 112 104 105 108 111 115 111 112 104 101 115 32 115 111 105 101 110 116 10 114 101 99 111 110 110 117 115 32 100 101 32 108 101 117 114 32 118 105 118 97 110 116 44 32 109 97 105 115 32 108 101 32 112 108 117 115 32 115 111 117 118 101 110 116 32 105 108 32 102 97 117 116 32 97 116 116 101 110 100 114 101 32 113 117 101 32 108 97 10 112 97 116 105 110 101 32 100 117 32 116 101 109 112 115 32 102 97 115 115 101 32 115 111 110 32 101 102 102 101 116 46 32 81 117 101 32 99 101 116 116 101 32 114 101 99 111 110 110 97 105 115 115 97 110 99 101 32 115 111 105 116 10 105 109 109 233 100 105 97 116 101 32 111 117 32 100 105 102 102 233 114 233 101 44 32 117 110 101 32 233 112 111 113 117 101 32 101 115 116 32 109 97 114 113 117 233 101 32 112 97 114 32 99 101 115 32 104 111 109 109 101 115 32 113 117 105 10 101 120 112 114 105 109 101 110 116 32 108 101 117 114 115 32 105 100 233 97 117 120 44 32 100 97 110 115 32 108 101 115 32 109 117 114 109 117 114 101 115 32 100 39 117 110 32 112 111 232 109 101 32 111 117 32 100 97 110 115 32 108 101 10 103 114 111 110 100 101 109 101 110 116 32 100 39 117 110 32 109 111 117 118 101 109 101 110 116 32 112 111 108 105 116 105 113 117 101 46 32 78 111 116 114 101 32 103 233 110 233 114 97 116 105 111 110 32 97 32 117 110 10 112 104 105 108 111 115 111 112 104 101 46 32 67 101 32 110 39 101 115 116 32 110 105 32 117 110 32 97 114 116 105 115 116 101 32 110 105 32 117 110 32 233 99 114 105 118 97 105 110 46 32 67 39 101 115 116 32 117 110 10 105 110 102 111 114 109 97 116 105 99 105 101 110 46 10\"\n",
        "text = \"\"\n",
        "for code in code.split():\n",
        "  text += chr(int(code))\n",
        "print(text)"
      ],
      "metadata": {
        "colab": {
          "base_uri": "https://localhost:8080/"
        },
        "id": "fiTRXOAXfSRt",
        "outputId": "3579a2ce-247b-4c8e-bf8d-c1f429425627"
      },
      "execution_count": 49,
      "outputs": [
        {
          "output_type": "stream",
          "name": "stdout",
          "text": [
            "Chaque génération a son philosophe, écrivain ou artiste qui saisit et\n",
            "incarne l'imaginaire du moment. Il arrive que ces philosophes soient\n",
            "reconnus de leur vivant, mais le plus souvent il faut attendre que la\n",
            "patine du temps fasse son effet. Que cette reconnaissance soit\n",
            "immédiate ou différée, une époque est marquée par ces hommes qui\n",
            "expriment leurs idéaux, dans les murmures d'un poème ou dans le\n",
            "grondement d'un mouvement politique. Notre génération a un\n",
            "philosophe. Ce n'est ni un artiste ni un écrivain. C'est un\n",
            "informaticien.\n",
            "\n"
          ]
        }
      ]
    }
  ]
}