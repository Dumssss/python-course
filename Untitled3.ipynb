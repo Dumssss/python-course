{
  "nbformat": 4,
  "nbformat_minor": 0,
  "metadata": {
    "colab": {
      "provenance": [],
      "authorship_tag": "ABX9TyP9DaH5JhJh/sVScVmow+Cp",
      "include_colab_link": true
    },
    "kernelspec": {
      "name": "python3",
      "display_name": "Python 3"
    },
    "language_info": {
      "name": "python"
    }
  },
  "cells": [
    {
      "cell_type": "markdown",
      "metadata": {
        "id": "view-in-github",
        "colab_type": "text"
      },
      "source": [
        "<a href=\"https://colab.research.google.com/github/Dumssss/python-course/blob/main/Untitled3.ipynb\" target=\"_parent\"><img src=\"https://colab.research.google.com/assets/colab-badge.svg\" alt=\"Open In Colab\"/></a>"
      ]
    },
    {
      "cell_type": "markdown",
      "source": [
        "# Premiere execution de code"
      ],
      "metadata": {
        "id": "IC3fyZ8lJ4jj"
      }
    },
    {
      "cell_type": "code",
      "execution_count": null,
      "metadata": {
        "id": "Ic8Q55R-IgLk"
      },
      "outputs": [],
      "source": [
        "for i in [0, 1, 2]:\n",
        "  print(\"valeur :\", i)\n",
        "print(\"Fin\")"
      ]
    },
    {
      "cell_type": "markdown",
      "source": [
        "Ecrire une fonction qui affiche tous les nombres pairs de 0 à 20"
      ],
      "metadata": {
        "id": "viLwnaguMO-W"
      }
    },
    {
      "cell_type": "code",
      "source": [
        "list(range(10, 20, 2))"
      ],
      "metadata": {
        "colab": {
          "base_uri": "https://localhost:8080/"
        },
        "id": "F2EQtMMZL1Ay",
        "outputId": "cffe0b18-a28d-4f01-8ebb-2ddaa87bc840"
      },
      "execution_count": null,
      "outputs": [
        {
          "output_type": "execute_result",
          "data": {
            "text/plain": [
              "[10, 12, 14, 16, 18]"
            ]
          },
          "metadata": {},
          "execution_count": 7
        }
      ]
    },
    {
      "cell_type": "markdown",
      "source": [
        "Demander une entrée"
      ],
      "metadata": {
        "id": "fqVNhlsvMy_K"
      }
    },
    {
      "cell_type": "code",
      "source": [
        "x = int(input(\"Donnez un entier : \"))"
      ],
      "metadata": {
        "colab": {
          "base_uri": "https://localhost:8080/"
        },
        "id": "GqRHxdWwM0Sg",
        "outputId": "2d9ca1d0-ace4-4abe-f117-4c993e909d07"
      },
      "execution_count": null,
      "outputs": [
        {
          "name": "stdout",
          "output_type": "stream",
          "text": [
            "Donnez un entier : 44\n"
          ]
        }
      ]
    },
    {
      "cell_type": "code",
      "source": [
        "print(\"x =\", x)"
      ],
      "metadata": {
        "colab": {
          "base_uri": "https://localhost:8080/"
        },
        "id": "37dWAT9BM7_s",
        "outputId": "9f58995e-059c-4ae4-c0fb-b776159afb86"
      },
      "execution_count": null,
      "outputs": [
        {
          "output_type": "stream",
          "name": "stdout",
          "text": [
            "x = 44\n"
          ]
        }
      ]
    },
    {
      "cell_type": "markdown",
      "source": [
        "# Les bases"
      ],
      "metadata": {
        "id": "_R-tHi-5SbZn"
      }
    },
    {
      "cell_type": "code",
      "source": [
        "list_voyelles = ['a', 'e', 'i', 'o', 'u' ,'y']\n",
        "spells = ['Firivraductobadamusi', 'Sonocuriboumproboum', 'Craboumcuribadadiyo', 'Ridimotocorpucorpucia', 'Feratrumtarafia', 'Desflimotomoto']\n",
        "score = 0\n",
        "\n",
        "for spell in spells:\n",
        "  nb_voyelles = 0\n",
        "  nb_consonnes = 0\n",
        "  dangereux = False\n",
        "\n",
        "  s=spell.lower()\n",
        "  if s[0] in list_voyelles :\n",
        "    dangereux = True\n",
        "  for c in s :\n",
        "    if c in list_voyelles:\n",
        "      nb_voyelles += 1\n",
        "    else :\n",
        "      nb_consonnes += 1\n",
        "  if nb_voyelles < nb_consonnes :\n",
        "    score += 5\n",
        "  if nb_voyelles == nb_consonnes :\n",
        "    score += 10\n",
        "  if nb_voyelles > nb_consonnes :\n",
        "    score += 15\n",
        "  if dangereux:\n",
        "    score += 10\n",
        "\n",
        "print(score)"
      ],
      "metadata": {
        "colab": {
          "base_uri": "https://localhost:8080/"
        },
        "id": "wKABv3FPSi28",
        "outputId": "8e811f1c-7f92-47e4-d09f-94473d280172"
      },
      "execution_count": null,
      "outputs": [
        {
          "output_type": "stream",
          "name": "stdout",
          "text": [
            "40\n"
          ]
        }
      ]
    },
    {
      "cell_type": "code",
      "source": [
        "code = \"67 104 97 113 117 101 32 103 233 110 233 114 97 116 105 111 110 32 97 32 115 111 110 32 112 104 105 108 111 115 111 112 104 101 44 32 233 99 114 105 118 97 105 110 32 111 117 32 97 114 116 105 115 116 101 32 113 117 105 32 115 97 105 115 105 116 32 101 116 10 105 110 99 97 114 110 101 32 108 39 105 109 97 103 105 110 97 105 114 101 32 100 117 32 109 111 109 101 110 116 46 32 73 108 32 97 114 114 105 118 101 32 113 117 101 32 99 101 115 32 112 104 105 108 111 115 111 112 104 101 115 32 115 111 105 101 110 116 10 114 101 99 111 110 110 117 115 32 100 101 32 108 101 117 114 32 118 105 118 97 110 116 44 32 109 97 105 115 32 108 101 32 112 108 117 115 32 115 111 117 118 101 110 116 32 105 108 32 102 97 117 116 32 97 116 116 101 110 100 114 101 32 113 117 101 32 108 97 10 112 97 116 105 110 101 32 100 117 32 116 101 109 112 115 32 102 97 115 115 101 32 115 111 110 32 101 102 102 101 116 46 32 81 117 101 32 99 101 116 116 101 32 114 101 99 111 110 110 97 105 115 115 97 110 99 101 32 115 111 105 116 10 105 109 109 233 100 105 97 116 101 32 111 117 32 100 105 102 102 233 114 233 101 44 32 117 110 101 32 233 112 111 113 117 101 32 101 115 116 32 109 97 114 113 117 233 101 32 112 97 114 32 99 101 115 32 104 111 109 109 101 115 32 113 117 105 10 101 120 112 114 105 109 101 110 116 32 108 101 117 114 115 32 105 100 233 97 117 120 44 32 100 97 110 115 32 108 101 115 32 109 117 114 109 117 114 101 115 32 100 39 117 110 32 112 111 232 109 101 32 111 117 32 100 97 110 115 32 108 101 10 103 114 111 110 100 101 109 101 110 116 32 100 39 117 110 32 109 111 117 118 101 109 101 110 116 32 112 111 108 105 116 105 113 117 101 46 32 78 111 116 114 101 32 103 233 110 233 114 97 116 105 111 110 32 97 32 117 110 10 112 104 105 108 111 115 111 112 104 101 46 32 67 101 32 110 39 101 115 116 32 110 105 32 117 110 32 97 114 116 105 115 116 101 32 110 105 32 117 110 32 233 99 114 105 118 97 105 110 46 32 67 39 101 115 116 32 117 110 10 105 110 102 111 114 109 97 116 105 99 105 101 110 46 10\""
      ],
      "metadata": {
        "id": "dj4W-q8ET8fr"
      },
      "execution_count": null,
      "outputs": []
    },
    {
      "cell_type": "code",
      "source": [
        "message = \"67 104 97 113 117 101 32 103 233 110 233 114 97 116 105 111 110 32 97 32 115 111 110 32 112 104 105 108 111 115 111 112 104 101 44 32 233 99 114 105 118 97 105 110 32 111 117 32 97 114 116 105 115 116 101 32 113 117 105 32 115 97 105 115 105 116 32 101 116 10 105 110 99 97 114 110 101 32 108 39 105 109 97 103 105 110 97 105 114 101 32 100 117 32 109 111 109 101 110 116 46 32 73 108 32 97 114 114 105 118 101 32 113 117 101 32 99 101 115 32 112 104 105 108 111 115 111 112 104 101 115 32 115 111 105 101 110 116 10 114 101 99 111 110 110 117 115 32 100 101 32 108 101 117 114 32 118 105 118 97 110 116 44 32 109 97 105 115 32 108 101 32 112 108 117 115 32 115 111 117 118 101 110 116 32 105 108 32 102 97 117 116 32 97 116 116 101 110 100 114 101 32 113 117 101 32 108 97 10 112 97 116 105 110 101 32 100 117 32 116 101 109 112 115 32 102 97 115 115 101 32 115 111 110 32 101 102 102 101 116 46 32 81 117 101 32 99 101 116 116 101 32 114 101 99 111 110 110 97 105 115 115 97 110 99 101 32 115 111 105 116 10 105 109 109 233 100 105 97 116 101 32 111 117 32 100 105 102 102 233 114 233 101 44 32 117 110 101 32 233 112 111 113 117 101 32 101 115 116 32 109 97 114 113 117 233 101 32 112 97 114 32 99 101 115 32 104 111 109 109 101 115 32 113 117 105 10 101 120 112 114 105 109 101 110 116 32 108 101 117 114 115 32 105 100 233 97 117 120 44 32 100 97 110 115 32 108 101 115 32 109 117 114 109 117 114 101 115 32 100 39 117 110 32 112 111 232 109 101 32 111 117 32 100 97 110 115 32 108 101 10 103 114 111 110 100 101 109 101 110 116 32 100 39 117 110 32 109 111 117 118 101 109 101 110 116 32 112 111 108 105 116 105 113 117 101 46 32 78 111 116 114 101 32 103 233 110 233 114 97 116 105 111 110 32 97 32 117 110 10 112 104 105 108 111 115 111 112 104 101 46 32 67 101 32 110 39 101 115 116 32 110 105 32 117 110 32 97 114 116 105 115 116 101 32 110 105 32 117 110 32 233 99 114 105 118 97 105 110 46 32 67 39 101 115 116 32 117 110 10 105 110 102 111 114 109 97 116 105 99 105 101 110 46 10\"\n",
        "text = \"\"\n",
        "for code in message.split():\n",
        "  text += chr(int(code))\n",
        "print(text)"
      ],
      "metadata": {
        "id": "fiTRXOAXfSRt"
      },
      "execution_count": null,
      "outputs": []
    },
    {
      "cell_type": "markdown",
      "source": [
        "Determiner la valeur de chaque lettre pour que l'opération suivantes soit correct (cryptarithme)\n",
        "send + more = money\n",
        "\n",
        "Sachant que :\n",
        "1.   chaque lettre représente un chiffre différent entre 0 et 9\n",
        "2.   Les premiers chiffres de chaque nombre ne peuvent etre nuls"
      ],
      "metadata": {
        "id": "nYQowEKdv6Y-"
      }
    },
    {
      "cell_type": "code",
      "source": [
        "for s in range(1, 10):\n",
        "  for e in range(10):\n",
        "    if e == s :\n",
        "      continue\n",
        "    for n in range(10):\n",
        "      if n == s or n == e :\n",
        "        continue\n",
        "      for d in range(10):\n",
        "        if d == s or d == e or d == n:\n",
        "          continue\n",
        "        for m in range(1, 10):\n",
        "          if m == s or m == e or m == n or m == d:\n",
        "            continue\n",
        "          for o in range(10):\n",
        "            if o == s or o == e or o == n or o == d or o == m:\n",
        "              continue\n",
        "            for r in range(10):\n",
        "              if r == s or r == e or r == n or r == d or r == m or r == o:\n",
        "                continue\n",
        "              for y in range(10):\n",
        "                if y == s or y == e or y == n or y == d or y == m or y == o or y == r:\n",
        "                  continue\n",
        "                send = s * 1000 + e * 100 + n * 10 + d\n",
        "                more = m * 1000 + o * 100 + r * 10 + e\n",
        "                money = m * 10000 + o * 1000 + n * 100 + e * 10 + y\n",
        "                if send + more == money :\n",
        "                  print(f's = {s}, e = {e}, n = {n}, d = {d}, m = {m}, o = {o}, r = {r}, y = {y}')\n",
        "                  print(\"send + more = money\")\n",
        "                  print(send ,'+', more ,'=' , money)"
      ],
      "metadata": {
        "colab": {
          "base_uri": "https://localhost:8080/"
        },
        "id": "iDKzDNxfv7te",
        "outputId": "f3ce7c61-2585-4eea-eeb3-01aabef892f5"
      },
      "execution_count": 63,
      "outputs": [
        {
          "output_type": "stream",
          "name": "stdout",
          "text": [
            "s = 9, e = 5, n = 6, d = 7, m = 1, o = 0, r = 8, y = 2\n",
            "send + more = money\n",
            "9567 + 1085 = 10652\n"
          ]
        }
      ]
    },
    {
      "cell_type": "markdown",
      "source": [
        "Aidez un crépier à ordonner ses crêpes par ordre décroissant de diamètre (de la plus grande à la plus petite, la plus grande en bas)\n",
        "\n",
        "Attention vous n'avez qu'une spatule pour retourner la pile de crêpes"
      ],
      "metadata": {
        "id": "UxZHZk5S683D"
      }
    },
    {
      "cell_type": "code",
      "source": [
        "pile = [6, 7, 1, 3, 2, 8, 9, 5, 4]\n",
        "\n",
        "def retourne(pile, index): \n",
        "  if index < len(pile):\n",
        "    return pile[:index] + list(reversed(pile[index:]))\n",
        "  else : \n",
        "    return(pile)\n",
        "\n",
        "retourne(pile, 0)\n",
        "\n",
        "def tri(pile, index):\n",
        "  new_pile = pile[index:]\n",
        "  print('pile:' , new_pile)\n",
        "  if len(new_pile) > 0:\n",
        "    max_index = new_pile.index(max(new_pile))\n",
        "    step1 = retourne(new_pile, max_index)\n",
        "    print('step1:', step1)\n",
        "    step2 = retourne(step1, 0)\n",
        "    print('step2', step2)\n",
        "    return tri(step2, 1)\n",
        "  else:\n",
        "    return(pile)\n",
        "\n",
        "tri(pile, 0)"
      ],
      "metadata": {
        "colab": {
          "base_uri": "https://localhost:8080/"
        },
        "id": "tHhJDhzP7LLK",
        "outputId": "374da33a-dd79-479f-ffe5-d834b6a4e009"
      },
      "execution_count": 70,
      "outputs": [
        {
          "output_type": "stream",
          "name": "stdout",
          "text": [
            "pile: [6, 7, 1, 3, 2, 8, 9, 5, 4]\n",
            "step1: [6, 7, 1, 3, 2, 8, 4, 5, 9]\n",
            "step2 [9, 5, 4, 8, 2, 3, 1, 7, 6]\n",
            "pile: [5, 4, 8, 2, 3, 1, 7, 6]\n",
            "step1: [5, 4, 6, 7, 1, 3, 2, 8]\n",
            "step2 [8, 2, 3, 1, 7, 6, 4, 5]\n",
            "pile: [2, 3, 1, 7, 6, 4, 5]\n",
            "step1: [2, 3, 1, 5, 4, 6, 7]\n",
            "step2 [7, 6, 4, 5, 1, 3, 2]\n",
            "pile: [6, 4, 5, 1, 3, 2]\n",
            "step1: [2, 3, 1, 5, 4, 6]\n",
            "step2 [6, 4, 5, 1, 3, 2]\n",
            "pile: [4, 5, 1, 3, 2]\n",
            "step1: [4, 2, 3, 1, 5]\n",
            "step2 [5, 1, 3, 2, 4]\n",
            "pile: [1, 3, 2, 4]\n",
            "step1: [1, 3, 2, 4]\n",
            "step2 [4, 2, 3, 1]\n",
            "pile: [2, 3, 1]\n",
            "step1: [2, 1, 3]\n",
            "step2 [3, 1, 2]\n",
            "pile: [1, 2]\n",
            "step1: [1, 2]\n",
            "step2 [2, 1]\n",
            "pile: [1]\n",
            "step1: [1]\n",
            "step2 [1]\n",
            "pile: []\n"
          ]
        },
        {
          "output_type": "execute_result",
          "data": {
            "text/plain": [
              "[1]"
            ]
          },
          "metadata": {},
          "execution_count": 70
        }
      ]
    }
  ]
}